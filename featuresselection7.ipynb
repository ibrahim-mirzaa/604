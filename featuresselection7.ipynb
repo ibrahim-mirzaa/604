{
 "cells": [
  {
   "cell_type": "markdown",
   "id": "de6f6637-dd14-4570-a953-86f1994c54ea",
   "metadata": {},
   "source": [
    "Aim: Apply feature selection techniques\n",
    "like variance thresholding and correlation\n",
    "analysis using Python's scikit-learn library\n",
    "to reduce dimensionality in a dataset.\n"
   ]
  },
  {
   "cell_type": "code",
   "execution_count": 1,
   "id": "3295d4e6-ff97-4c0e-be62-5a12bcb95ef8",
   "metadata": {},
   "outputs": [
    {
     "name": "stdout",
     "output_type": "stream",
     "text": [
      "Original Dataset:\n",
      "   sepal length (cm)  sepal width (cm)  petal length (cm)  petal width (cm)\n",
      "0                5.1               3.5                1.4               0.2\n",
      "1                4.9               3.0                1.4               0.2\n",
      "2                4.7               3.2                1.3               0.2\n",
      "3                4.6               3.1                1.5               0.2\n",
      "4                5.0               3.6                1.4               0.2\n"
     ]
    }
   ],
   "source": [
    "from sklearn.datasets import load_iris\n",
    "from sklearn.model_selection import train_test_split\n",
    "import pandas as pd\n",
    "import numpy as np\n",
    "# Load iris dataset\n",
    "iris = load_iris()\n",
    "X = iris.data\n",
    "y = iris.target\n",
    "\n",
    "# Convert to DataFrame for easier manipulation\n",
    "df = pd.DataFrame(X, columns=iris.feature_names)\n",
    "\n",
    "print(\"Original Dataset:\")\n",
    "print(df.head())\n"
   ]
  },
  {
   "cell_type": "code",
   "execution_count": 2,
   "id": "f3a7e315-fc3c-488f-894f-06a2ab7cd157",
   "metadata": {},
   "outputs": [
    {
     "name": "stdout",
     "output_type": "stream",
     "text": [
      "\n",
      "Dataset after Variance Thresholding:\n",
      "   sepal length (cm)  petal length (cm)  petal width (cm)\n",
      "0                5.1                1.4               0.2\n",
      "1                4.9                1.4               0.2\n",
      "2                4.7                1.3               0.2\n",
      "3                4.6                1.5               0.2\n",
      "4                5.0                1.4               0.2\n"
     ]
    }
   ],
   "source": [
    "from sklearn.feature_selection import VarianceThreshold\n",
    "\n",
    "# Apply variance thresholding\n",
    "selector = VarianceThreshold(threshold=0.2)\n",
    "X_high_variance = selector.fit_transform(X)\n",
    "\n",
    "print(\"\\nDataset after Variance Thresholding:\")\n",
    "print(pd.DataFrame(X_high_variance, columns=df.columns[selector.get_support(indices=True)]).head())\n"
   ]
  },
  {
   "cell_type": "code",
   "execution_count": 3,
   "id": "a142ff18-4db2-45b7-be80-dd167f5f06d6",
   "metadata": {},
   "outputs": [
    {
     "name": "stdout",
     "output_type": "stream",
     "text": [
      "\n",
      "Dataset after removing highly correlated features:\n",
      "   sepal length (cm)  petal length (cm)\n",
      "0                5.1                1.4\n",
      "1                4.9                1.4\n",
      "2                4.7                1.3\n",
      "3                4.6                1.5\n",
      "4                5.0                1.4\n"
     ]
    }
   ],
   "source": [
    "# Calculate correlation matrix\n",
    "corr_matrix = pd.DataFrame(X_high_variance, columns=df.columns[selector.get_support(indices=True)]).corr().abs()\n",
    "\n",
    "# Select upper triangle of correlation matrix\n",
    "upper = corr_matrix.where(np.triu(np.ones(corr_matrix.shape), k=1).astype(bool))\n",
    "\n",
    "# Find features with correlation greater than 0.95\n",
    "to_drop = [column for column in upper.columns if any(upper[column] > 0.95)]\n",
    "\n",
    "# Drop features\n",
    "X_low_correlation = pd.DataFrame(X_high_variance, columns=df.columns[selector.get_support(indices=True)]).drop(to_drop, axis=1)\n",
    "\n",
    "print(\"\\nDataset after removing highly correlated features:\")\n",
    "print(X_low_correlation.head())\n"
   ]
  },
  {
   "cell_type": "code",
   "execution_count": 4,
   "id": "928a7472-7d99-48a6-b2bb-2e36e4480811",
   "metadata": {},
   "outputs": [
    {
     "name": "stdout",
     "output_type": "stream",
     "text": [
      "\n",
      "Dataset after SelectKBest Feature Selection (Top 2 features):\n",
      "   sepal length (cm)  petal length (cm)\n",
      "0                4.6                1.0\n",
      "1                5.7                1.5\n",
      "2                6.7                4.4\n",
      "3                4.8                1.6\n",
      "4                4.4                1.3\n"
     ]
    }
   ],
   "source": [
    "from sklearn.feature_selection import SelectKBest, f_classif\n",
    "\n",
    "# Split the dataset into training and testing sets\n",
    "X_train, X_test, y_train, y_test = train_test_split(X_low_correlation, y, test_size=0.2, random_state=42)\n",
    "\n",
    "# Configure to select the top 2 features\n",
    "k_best_features = 2\n",
    "selector_kbest = SelectKBest(score_func=f_classif, k=k_best_features)\n",
    "\n",
    "# Apply the SelectKBest object to the dataset\n",
    "X_train_kbest = selector_kbest.fit_transform(X_train, y_train)\n",
    "X_test_kbest = selector_kbest.transform(X_test)\n",
    "\n",
    "print(f\"\\nDataset after SelectKBest Feature Selection (Top {k_best_features} features):\")\n",
    "print(pd.DataFrame(X_train_kbest, columns=X_train.columns[selector_kbest.get_support(indices=True)]).head())\n"
   ]
  },
  {
   "cell_type": "code",
   "execution_count": null,
   "id": "3afd7ab9-8775-4fd5-89c5-b6e261627ffe",
   "metadata": {},
   "outputs": [],
   "source": []
  }
 ],
 "metadata": {
  "kernelspec": {
   "display_name": "Python 3 (ipykernel)",
   "language": "python",
   "name": "python3"
  },
  "language_info": {
   "codemirror_mode": {
    "name": "ipython",
    "version": 3
   },
   "file_extension": ".py",
   "mimetype": "text/x-python",
   "name": "python",
   "nbconvert_exporter": "python",
   "pygments_lexer": "ipython3",
   "version": "3.12.3"
  }
 },
 "nbformat": 4,
 "nbformat_minor": 5
}
